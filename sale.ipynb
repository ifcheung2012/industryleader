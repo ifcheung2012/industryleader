{
 "cells": [
  {
   "cell_type": "code",
   "execution_count": 19,
   "metadata": {
    "pycharm": {
     "name": "#%%\n"
    }
   },
   "outputs": [],
   "source": [
    "import pandas as pd\n",
    "import numpy as np\n",
    "\n",
    "df_a=pd.read_excel('~/Desktop/销售客流pandas/1-12月份数据.xlsx',sheet_name='A')\n",
    "m = df_a.groupby(['公司名称']).count().reset_index()\n",
    "\n",
    "df_b=pd.read_excel('~/Desktop/销售客流pandas/1-12月份数据.xlsx',sheet_name='B')\n",
    "n = df_b.groupby(['公司名称']).count().reset_index()\n",
    "\n",
    "for i in m['公司名称']:\n",
    "    df_t = df_a.loc[(df_a['公司名称']==i)]\n",
    "    df_t.to_excel('~/Downloads/待调剂_无预算_超预算/预算待调剂_'+i+'_全年无预算.xlsx',index=False,sheet_name='全年无预算')\n",
    "\n",
    "for j in n['公司名称']:\n",
    "    df_t = df_b.loc[(df_b['公司名称']==j)]\n",
    "    df_t.to_excel('~/Downloads/待调剂_无预算_超预算/预算待调剂_'+j+'_全年超预算.xlsx',index=False,sheet_name='全年超预算')"
   ]
  },
  {
   "cell_type": "code",
   "execution_count": 1,
   "metadata": {
    "pycharm": {
     "name": "#%%\n"
    }
   },
   "outputs": [
    {
     "name": "stderr",
     "output_type": "stream",
     "text": [
      "/var/folders/z8/d___9t814s9g92ttzr6fyhjh0000gn/T/ipykernel_23713/2919847621.py:10: SettingWithCopyWarning: \n",
      "A value is trying to be set on a copy of a slice from a DataFrame.\n",
      "Try using .loc[row_indexer,col_indexer] = value instead\n",
      "\n",
      "See the caveats in the documentation: https://pandas.pydata.org/pandas-docs/stable/user_guide/indexing.html#returning-a-view-versus-a-copy\n",
      "  page_2['周末/平日比'] = pd.to_numeric(page_2['周末/平日比'], errors='coerce')\n",
      "/var/folders/z8/d___9t814s9g92ttzr6fyhjh0000gn/T/ipykernel_23713/2919847621.py:11: SettingWithCopyWarning: \n",
      "A value is trying to be set on a copy of a slice from a DataFrame.\n",
      "Try using .loc[row_indexer,col_indexer] = value instead\n",
      "\n",
      "See the caveats in the documentation: https://pandas.pydata.org/pandas-docs/stable/user_guide/indexing.html#returning-a-view-versus-a-copy\n",
      "  page_2['同期周末/平日比'] = pd.to_numeric(page_2['同期周末/平日比'], errors='coerce')\n",
      "/var/folders/z8/d___9t814s9g92ttzr6fyhjh0000gn/T/ipykernel_23713/2919847621.py:13: SettingWithCopyWarning: \n",
      "A value is trying to be set on a copy of a slice from a DataFrame.\n",
      "Try using .loc[row_indexer,col_indexer] = value instead\n",
      "\n",
      "See the caveats in the documentation: https://pandas.pydata.org/pandas-docs/stable/user_guide/indexing.html#returning-a-view-versus-a-copy\n",
      "  page_2['周末占比同比'] = page_2['周末/平日比'] - page_2['同期周末/平日比']\n",
      "/var/folders/z8/d___9t814s9g92ttzr6fyhjh0000gn/T/ipykernel_23713/2919847621.py:51: SettingWithCopyWarning: \n",
      "A value is trying to be set on a copy of a slice from a DataFrame.\n",
      "Try using .loc[row_indexer,col_indexer] = value instead\n",
      "\n",
      "See the caveats in the documentation: https://pandas.pydata.org/pandas-docs/stable/user_guide/indexing.html#returning-a-view-versus-a-copy\n",
      "  page_2['日均客流同比'] = pd.to_numeric(page_2['日均客流同比'], errors='coerce')\n",
      "/var/folders/z8/d___9t814s9g92ttzr6fyhjh0000gn/T/ipykernel_23713/2919847621.py:52: SettingWithCopyWarning: \n",
      "A value is trying to be set on a copy of a slice from a DataFrame.\n",
      "Try using .loc[row_indexer,col_indexer] = value instead\n",
      "\n",
      "See the caveats in the documentation: https://pandas.pydata.org/pandas-docs/stable/user_guide/indexing.html#returning-a-view-versus-a-copy\n",
      "  page_2['周末/平日比'] = pd.to_numeric(page_2['周末/平日比'], errors='coerce')\n",
      "/var/folders/z8/d___9t814s9g92ttzr6fyhjh0000gn/T/ipykernel_23713/2919847621.py:53: SettingWithCopyWarning: \n",
      "A value is trying to be set on a copy of a slice from a DataFrame.\n",
      "Try using .loc[row_indexer,col_indexer] = value instead\n",
      "\n",
      "See the caveats in the documentation: https://pandas.pydata.org/pandas-docs/stable/user_guide/indexing.html#returning-a-view-versus-a-copy\n",
      "  page_2['同期周末/平日比'] = pd.to_numeric(page_2['同期周末/平日比'], errors='coerce')\n",
      "/var/folders/z8/d___9t814s9g92ttzr6fyhjh0000gn/T/ipykernel_23713/2919847621.py:54: SettingWithCopyWarning: \n",
      "A value is trying to be set on a copy of a slice from a DataFrame.\n",
      "Try using .loc[row_indexer,col_indexer] = value instead\n",
      "\n",
      "See the caveats in the documentation: https://pandas.pydata.org/pandas-docs/stable/user_guide/indexing.html#returning-a-view-versus-a-copy\n",
      "  page_2['周末占比同比'] = pd.to_numeric(page_2['周末占比同比'], errors='coerce')\n",
      "/var/folders/z8/d___9t814s9g92ttzr6fyhjh0000gn/T/ipykernel_23713/2919847621.py:63: SettingWithCopyWarning: \n",
      "A value is trying to be set on a copy of a slice from a DataFrame.\n",
      "Try using .loc[row_indexer,col_indexer] = value instead\n",
      "\n",
      "See the caveats in the documentation: https://pandas.pydata.org/pandas-docs/stable/user_guide/indexing.html#returning-a-view-versus-a-copy\n",
      "  page_3['周末占比同比'] = pd.to_numeric(page_3['周末占比同比'], errors='coerce')\n",
      "/var/folders/z8/d___9t814s9g92ttzr6fyhjh0000gn/T/ipykernel_23713/2919847621.py:64: SettingWithCopyWarning: \n",
      "A value is trying to be set on a copy of a slice from a DataFrame.\n",
      "Try using .loc[row_indexer,col_indexer] = value instead\n",
      "\n",
      "See the caveats in the documentation: https://pandas.pydata.org/pandas-docs/stable/user_guide/indexing.html#returning-a-view-versus-a-copy\n",
      "  page_3['同期周末/平日比'] = pd.to_numeric(page_3['同期周末/平日比'], errors='coerce')\n",
      "/var/folders/z8/d___9t814s9g92ttzr6fyhjh0000gn/T/ipykernel_23713/2919847621.py:65: SettingWithCopyWarning: \n",
      "A value is trying to be set on a copy of a slice from a DataFrame.\n",
      "Try using .loc[row_indexer,col_indexer] = value instead\n",
      "\n",
      "See the caveats in the documentation: https://pandas.pydata.org/pandas-docs/stable/user_guide/indexing.html#returning-a-view-versus-a-copy\n",
      "  page_3['周末占比同比'] = page_3['周末/平日比'] - page_3['同期周末/平日比']\n",
      "/var/folders/z8/d___9t814s9g92ttzr6fyhjh0000gn/T/ipykernel_23713/2919847621.py:66: SettingWithCopyWarning: \n",
      "A value is trying to be set on a copy of a slice from a DataFrame.\n",
      "Try using .loc[row_indexer,col_indexer] = value instead\n",
      "\n",
      "See the caveats in the documentation: https://pandas.pydata.org/pandas-docs/stable/user_guide/indexing.html#returning-a-view-versus-a-copy\n",
      "  page_3['日均销额售同比'] = pd.to_numeric(page_3['日均销额售同比'], errors='coerce')\n",
      "/var/folders/z8/d___9t814s9g92ttzr6fyhjh0000gn/T/ipykernel_23713/2919847621.py:70: SettingWithCopyWarning: \n",
      "A value is trying to be set on a copy of a slice from a DataFrame.\n",
      "Try using .loc[row_indexer,col_indexer] = value instead\n",
      "\n",
      "See the caveats in the documentation: https://pandas.pydata.org/pandas-docs/stable/user_guide/indexing.html#returning-a-view-versus-a-copy\n",
      "  page_4['周末占比同比'] = pd.to_numeric(page_4['周末占比同比'], errors='coerce')\n",
      "/var/folders/z8/d___9t814s9g92ttzr6fyhjh0000gn/T/ipykernel_23713/2919847621.py:71: SettingWithCopyWarning: \n",
      "A value is trying to be set on a copy of a slice from a DataFrame.\n",
      "Try using .loc[row_indexer,col_indexer] = value instead\n",
      "\n",
      "See the caveats in the documentation: https://pandas.pydata.org/pandas-docs/stable/user_guide/indexing.html#returning-a-view-versus-a-copy\n",
      "  page_4['日均销额售同比'] = pd.to_numeric(page_4['日均销额售同比'], errors='coerce')\n",
      "/var/folders/z8/d___9t814s9g92ttzr6fyhjh0000gn/T/ipykernel_23713/2919847621.py:72: SettingWithCopyWarning: \n",
      "A value is trying to be set on a copy of a slice from a DataFrame.\n",
      "Try using .loc[row_indexer,col_indexer] = value instead\n",
      "\n",
      "See the caveats in the documentation: https://pandas.pydata.org/pandas-docs/stable/user_guide/indexing.html#returning-a-view-versus-a-copy\n",
      "  page_4['同期周末/平日比'] = pd.to_numeric(page_4['同期周末/平日比'], errors='coerce')\n",
      "/var/folders/z8/d___9t814s9g92ttzr6fyhjh0000gn/T/ipykernel_23713/2919847621.py:73: SettingWithCopyWarning: \n",
      "A value is trying to be set on a copy of a slice from a DataFrame.\n",
      "Try using .loc[row_indexer,col_indexer] = value instead\n",
      "\n",
      "See the caveats in the documentation: https://pandas.pydata.org/pandas-docs/stable/user_guide/indexing.html#returning-a-view-versus-a-copy\n",
      "  page_4['周末占比同比'] = page_4['周末/平日比'] - page_4['同期周末/平日比']\n",
      "/var/folders/z8/d___9t814s9g92ttzr6fyhjh0000gn/T/ipykernel_23713/2919847621.py:76: SettingWithCopyWarning: \n",
      "A value is trying to be set on a copy of a slice from a DataFrame.\n",
      "Try using .loc[row_indexer,col_indexer] = value instead\n",
      "\n",
      "See the caveats in the documentation: https://pandas.pydata.org/pandas-docs/stable/user_guide/indexing.html#returning-a-view-versus-a-copy\n",
      "  page_5['周末占比同比'] = pd.to_numeric(page_5['周末占比同比'], errors='coerce')\n",
      "/var/folders/z8/d___9t814s9g92ttzr6fyhjh0000gn/T/ipykernel_23713/2919847621.py:77: SettingWithCopyWarning: \n",
      "A value is trying to be set on a copy of a slice from a DataFrame.\n",
      "Try using .loc[row_indexer,col_indexer] = value instead\n",
      "\n",
      "See the caveats in the documentation: https://pandas.pydata.org/pandas-docs/stable/user_guide/indexing.html#returning-a-view-versus-a-copy\n",
      "  page_5['日均销额售同比'] = pd.to_numeric(page_5['日均销额售同比'], errors='coerce')\n",
      "/var/folders/z8/d___9t814s9g92ttzr6fyhjh0000gn/T/ipykernel_23713/2919847621.py:78: SettingWithCopyWarning: \n",
      "A value is trying to be set on a copy of a slice from a DataFrame.\n",
      "Try using .loc[row_indexer,col_indexer] = value instead\n",
      "\n",
      "See the caveats in the documentation: https://pandas.pydata.org/pandas-docs/stable/user_guide/indexing.html#returning-a-view-versus-a-copy\n",
      "  page_5['同期周末/平日比'] = pd.to_numeric(page_5['同期周末/平日比'], errors='coerce')\n",
      "/var/folders/z8/d___9t814s9g92ttzr6fyhjh0000gn/T/ipykernel_23713/2919847621.py:79: SettingWithCopyWarning: \n",
      "A value is trying to be set on a copy of a slice from a DataFrame.\n",
      "Try using .loc[row_indexer,col_indexer] = value instead\n",
      "\n",
      "See the caveats in the documentation: https://pandas.pydata.org/pandas-docs/stable/user_guide/indexing.html#returning-a-view-versus-a-copy\n",
      "  page_5['周末占比同比'] = page_5['周末/平日比'] - page_5['同期周末/平日比']\n"
     ]
    }
   ],
   "source": [
    "#直接从报表系统 导出 指定月份 的客流数据和销售数据 整理后，在此处解析、输出ppt要求的数据格式；\n",
    "import pandas as pd\n",
    "import numpy as np\n",
    "\n",
    "df_kl=pd.read_excel('~/Desktop/销售客流pandas/客流08.xlsx')\n",
    "df_kl.insert(loc=0,column='序号',value = [1,5,6,2,4,3])\n",
    "df_kl_t=df_kl.sort_values(by=['序号'],ascending=True)\n",
    "page_2 = df_kl_t[['项目','日均客流','同期日均客流','日均客流同比','平日日均客流','周末日均客流','周末/平日比','同期周末/平日比']]\n",
    "\n",
    "page_2['周末/平日比'] = pd.to_numeric(page_2['周末/平日比'], errors='coerce')\n",
    "page_2['同期周末/平日比'] = pd.to_numeric(page_2['同期周末/平日比'], errors='coerce')\n",
    "\n",
    "page_2['周末占比同比'] = page_2['周末/平日比'] - page_2['同期周末/平日比']\n",
    "\n",
    "\n",
    "df_xs=pd.read_excel('~/Desktop/销售客流pandas/销售总额分析08.xlsx')\n",
    "\n",
    "\n",
    "df_all = df_xs.loc[(df_xs.项目整体 =='项目整体')]\n",
    "df_all.insert(loc=0,column='序号',value =[1,5,6,2,4,3])\n",
    "df_xs_a=df_all.sort_values(by=['序号'],ascending=True)\n",
    "page_3 = df_xs_a[['项目','日均销售额','同期日均销售额','日均销额售同比','平日日均销售额','周末日均销售额','周末/平日比','同期周末/平日比','周末占比同比']]\n",
    "\n",
    "\n",
    "df_major = df_xs.loc[(df_xs.项目整体 =='主次力店')]\n",
    "df_major.insert(loc=0,column='序号',value =[1,5,6,2,4,3])\n",
    "df_xs_m=df_major.sort_values(by=['序号'],ascending=True)\n",
    "page_4 = df_xs_m[['项目','日均销售额','同期日均销售额','日均销额售同比','平日日均销售额','周末日均销售额','周末/平日比','同期周末/平日比','周末占比同比']]\n",
    "\n",
    "\n",
    "df_normal = df_xs.loc[(df_xs.项目整体 =='一般店铺')]\n",
    "df_normal.insert(loc=0,column='序号',value =[1,5,6,2,4,3])\n",
    "df_xs_n=df_normal.sort_values(by=['序号'],ascending=True)\n",
    "page_5 = df_xs_n[['项目','日均销售额','同期日均销售额','日均销额售同比','平日日均销售额','周末日均销售额','周末/平日比','同期周末/平日比','周末占比同比']]\n",
    "\n",
    "\n",
    "\n",
    "page_1 = pd.merge(page_2,page_3,on='项目',how='left')[['项目','日均客流','日均客流同比','日均销售额','日均销额售同比']]\n",
    "\n",
    "\n",
    "rjkl=page_2.日均客流.sum()/6\n",
    "rjkl_tq = page_2.同期日均客流.sum()\n",
    "rjkl_tb = (rjkl-rjkl_tq)/rjkl_tq\n",
    "\n",
    "rjxs=page_3.日均销售额.sum()/6\n",
    "rjxs_tq=page_3.同期日均销售额.sum()\n",
    "rjxs_tb=(rjxs-rjxs_tq)/rjxs_tq\n",
    "\n",
    "# df_a_row1 = pd.DataFrame(np.insert(page_1.values,0,values=['均值',rjkl_tq,rjkl_tb,rjxs_tq,rjxs_tb],axis=0))\n",
    "\n",
    "page_2['日均客流同比'] = pd.to_numeric(page_2['日均客流同比'], errors='coerce')\n",
    "page_2['周末/平日比'] = pd.to_numeric(page_2['周末/平日比'], errors='coerce')\n",
    "page_2['同期周末/平日比'] = pd.to_numeric(page_2['同期周末/平日比'], errors='coerce')\n",
    "page_2['周末占比同比'] = pd.to_numeric(page_2['周末占比同比'], errors='coerce')\n",
    "page_2 = page_2.round({'日均客流':2,'同期日均客流':2,\n",
    "                       '日均客流同比':2,'平日日均客流':2,\n",
    "                       '周末日均客流':2,'周末/平日比':2,\n",
    "                       '同期周末/平日比':2,'周末占比同比':2\n",
    "                       })\n",
    "page_2 = page_2.fillna('')\n",
    "\n",
    "\n",
    "page_3['周末占比同比'] = pd.to_numeric(page_3['周末占比同比'], errors='coerce')\n",
    "page_3['同期周末/平日比'] = pd.to_numeric(page_3['同期周末/平日比'], errors='coerce')\n",
    "page_3['周末占比同比'] = page_3['周末/平日比'] - page_3['同期周末/平日比']\n",
    "page_3['日均销额售同比'] = pd.to_numeric(page_3['日均销额售同比'], errors='coerce')\n",
    "page_3 = page_3.round({'日均销售额':0,'同期日均销售额':0,'日均销额售同比':2,'平日日均销售额':0,'周末日均销售额':0,'周末/平日比':2,'周末占比同比':2})\n",
    "page_3 = page_3.fillna('')\n",
    "\n",
    "page_4['周末占比同比'] = pd.to_numeric(page_4['周末占比同比'], errors='coerce')\n",
    "page_4['日均销额售同比'] = pd.to_numeric(page_4['日均销额售同比'], errors='coerce')\n",
    "page_4['同期周末/平日比'] = pd.to_numeric(page_4['同期周末/平日比'], errors='coerce')\n",
    "page_4['周末占比同比'] = page_4['周末/平日比'] - page_4['同期周末/平日比']\n",
    "page_4 = page_4.round({'日均销售额':0,'同期日均销售额':0,'日均销额售同比':2,'平日日均销售额':0,'周末日均销售额':0,'周末/平日比':2,'周末占比同比':2})\n",
    "page_4 = page_4.fillna('')\n",
    "page_5['周末占比同比'] = pd.to_numeric(page_5['周末占比同比'], errors='coerce')\n",
    "page_5['日均销额售同比'] = pd.to_numeric(page_5['日均销额售同比'], errors='coerce')\n",
    "page_5['同期周末/平日比'] = pd.to_numeric(page_5['同期周末/平日比'], errors='coerce')\n",
    "page_5['周末占比同比'] = page_5['周末/平日比'] - page_5['同期周末/平日比']\n",
    "page_5 = page_5.round({'日均销售额':0,'同期日均销售额':0,'日均销额售同比':2,'平日日均销售额':0,'周末日均销售额':0,'周末/平日比':2,'周末占比同比':2})\n",
    "page_5 = page_5.fillna('')\n",
    "\n",
    "\n",
    "with pd.ExcelWriter('~/Downloads/ppt0831-1.xlsx') as writer:\n",
    "    # df_a_row1.to_excel(writer,sheet_name='page_1')\n",
    "    page_2.to_excel(writer,sheet_name='page_2',index=False)\n",
    "    page_3.to_excel(writer,sheet_name='page_3',index=False)\n",
    "    page_4.to_excel(writer,sheet_name='page_4',index=False)\n",
    "    page_5.to_excel(writer,sheet_name='page_5',index=False)\n",
    "    \n"
   ]
  },
  {
   "cell_type": "markdown",
   "metadata": {
    "pycharm": {
     "name": "#%% md\n"
    }
   },
   "source": [
    "### 半年报销售数据"
   ]
  },
  {
   "cell_type": "code",
   "execution_count": null,
   "metadata": {
    "pycharm": {
     "name": "#%%\n"
    }
   },
   "outputs": [],
   "source": [
    "from datetime import date, timedelta\n",
    "\n",
    "\n",
    "def days_between(d1,d2):\n",
    "    days_between = (d2-d1).days\n",
    "    weekends, leftover = divmod(days_between,7)\n",
    "    if leftover:\n",
    "        start_day = (d2-timedelta(leftover)).isoweekday()\n",
    "        end_day = start_day+leftover\n",
    "        if start_day<=6 and end_day>6:\n",
    "            weekends +=.5\n",
    "        if start_day<=7 and end_day>7:\n",
    "            weekends +=.5\n",
    "\n",
    "    days_a = (d2 - d1).days\n",
    "    days_w = weekends\n",
    "    days_n =days_a - days_w*2\n",
    "    \n",
    "    return (days_a,days_n,days_w*2)\n",
    "\n",
    "\n",
    "\n",
    "\n",
    "def get_diff_xs(df_xs_all_ppk1,df_xs_all_ppk2,form,mall,dt11,dt12,dt21,dt22):\n",
    "    \"\"\"\n",
    "    Parameters: \n",
    "        1、dataframe: df_xs_all_ppk1 历史数据,df_xs_all_ppk2  当前数据 ；格式= ['项目名称','铺位类型','品牌名称','营业额','营业额日期','业态']\n",
    "        \n",
    "            get_diff_xs(df_xs_dj_202105,df_xs_dj_202205,'合肥弘阳广场',0)\n",
    "        2、form:0-所有业态；1-主次力店；2-一般商铺\n",
    "    Return :\n",
    "    项目名称\t 平日销售日均\t 周末销售日均\t周末/平日比\t周末占比同比\n",
    "    合肥弘阳广场\t788503.48\t1123773.68  \t0.58\t-0.39\n",
    "    \"\"\"\n",
    "    #根据业态，区分销售数据的统计范围\n",
    "    if form==1:\n",
    "        df_xs_all_ppk1=df_xs_all_ppk1.loc[(df_xs_all_ppk1.业态=='主次力店')]\n",
    "        df_xs_all_ppk2=df_xs_all_ppk2.loc[(df_xs_all_ppk2.业态=='主次力店')]\n",
    "    if form==2:\n",
    "        df_xs_all_ppk1=df_xs_all_ppk1.loc[(df_xs_all_ppk1.业态!='主次力店')]\n",
    "        df_xs_all_ppk2=df_xs_all_ppk2.loc[(df_xs_all_ppk2.业态!='主次力店')]\n",
    "\n",
    "    # \n",
    "    dw = days_between(date(2022,1,1),date(2022,7,1))\n",
    "    print(dw)\n",
    "    c_zm1 = dw[2]\n",
    "    c_pr1 = dw[1]\n",
    "    \n",
    "    #month1 周末平日销售结果\n",
    "    df_xs_all_ppk1['周末'] = df_xs_all_ppk1['营业额日期'].apply(lambda x: '是' if x.weekday() >4 else '否')\n",
    "    print((c_zm1,c_pr1))\n",
    "    \n",
    "    df_tmp1 = df_xs_all_ppk1.groupby(by='周末').agg({'营业额':'sum'}).reset_index()\n",
    "    \n",
    "    df_tmp1['日均营业额']=df_tmp1.apply(lambda x:x['营业额']/c_zm1 if x['周末']=='是' else x['营业额']/c_pr1,axis=1)\n",
    "\n",
    "    a,b,c=df_tmp1.iat[0,2],df_tmp1.iat[1,2],df_tmp1.iat[1,1]/df_tmp1.iat[0,1]\n",
    "    df_xs_res1 = pd.DataFrame(data={'项目名称':[mall],'平日销售日均':[a],'周末销售日均':[b],'周末/平日比':[c]})\n",
    "    df1 = df_xs_res1.reset_index()\n",
    "\n",
    "    #month2 周末平日销售结果\n",
    "    df_xs_all_ppk2['周末'] = df_xs_all_ppk2['营业额日期'].apply(lambda x: '是' if x.weekday() >4 else '否')\n",
    "    c_zm2 = dw[2]\n",
    "    c_pr2 = dw[1]\n",
    "\n",
    "    df_tmp2 = df_xs_all_ppk2.groupby(by='周末').agg({'营业额':'sum'}).reset_index()\n",
    "    df_tmp2['日均营业额']=df_tmp2.apply(lambda x:x['营业额']/c_zm2 if x['周末']=='是' else x['营业额']/c_pr2,axis=1)\n",
    "\n",
    "    print(df_tmp2)\n",
    "    a,b,c=df_tmp2.iat[0,2],df_tmp2.iat[1,2],df_tmp2.iat[1,1]/df_tmp2.iat[0,1]\n",
    "\n",
    "    df_xs_res2 = pd.DataFrame(data={'项目名称':[mall],'平日销售日均':[a],'周末销售日均':[b],'周末/平日比':[c]})\n",
    "    df2 = df_xs_res2.reset_index()\n",
    "\n",
    "    #输出同比结果\n",
    "    df2['上期周末占比']=df1.iat[0,4]\n",
    "    df2['周末占比同比']=df2.iat[0,4]-df1.iat[0,4]\n",
    "\n",
    "    return df2.round(2)"
   ]
  },
  {
   "cell_type": "code",
   "execution_count": null,
   "metadata": {
    "pycharm": {
     "name": "#%%\n"
    }
   },
   "outputs": [],
   "source": [
    "\n",
    "import pandas as pd\n",
    "import numpy as np\n",
    "\n",
    "df_xs_yt=pd.read_excel('~/Desktop/销售客流pandas/业态202201_06.xlsx',header=1)\n",
    "df_xs_yt = df_xs_yt.loc[(df_xs_yt.项目 == '南京弘阳广场') | (df_xs_yt.项目 == '合肥弘阳广场') | (df_xs_yt.项目 == '常州中吴弘阳广场') | (df_xs_yt.项目 == '济南弘阳广场') | (df_xs_yt.项目 == '燕郊弘阳广场') | (df_xs_yt.项目 == '衡阳弘阳广场')]\n",
    "\n",
    "# df_xs_yt = df_xs_yt[['项目整体','项目','一月','二月','三月','四月','五月','六月']]\n",
    "# # df_xs_yt\n",
    "# yetai = ['主次力店','餐饮','儿童','服装','精品','娱乐','服务']\n",
    "\n",
    "# df_res = []\n",
    "# for yt in yetai:\n",
    "#     df = df_xs_yt.loc[(df_xs_yt.项目整体 == yt)]\n",
    "#     df.insert(loc=0,column='序号',value =[1,5,6,2,4,3])\n",
    "#     df=df.sort_values(by=['序号'],ascending=True)\n",
    "#     d = df[['项目整体','项目','一月','二月','三月','四月','五月','六月']]\n",
    "#     x = d.apply(pd.to_numeric,errors='ignore')\n",
    "#     df_res.append(x)\n",
    "\n",
    "# with pd.ExcelWriter('~/Desktop/销售客流pandas/ppt7.xlsx') as writer:\n",
    "#     i = 0\n",
    "#     for yt in yetai:\n",
    "#         df_res[i].round(decimals=0).to_excel(writer,sheet_name= yt,index=False)\n",
    "#         i += 1\n",
    "\n",
    "# 南京弘阳广场2021 和 2022 销售数据\n",
    "df1 = pd.read_excel('~/Desktop/销售客流pandas/正铺202101_06.xls')\n",
    "df2 = pd.read_excel('~/Desktop/销售客流pandas/多经202101_06.xls')\n",
    "df3 = pd.read_excel('~/Desktop/销售客流pandas/正铺202201_06.xls')\n",
    "df4 = pd.read_excel('~/Desktop/销售客流pandas/多经202201_06.xls')\n",
    "\n",
    "df2021 = pd.concat([df1,df2])\n",
    "\n",
    "df2022 = pd.concat([df3,df4])\n",
    "\n",
    "\n",
    "df_ppk = pd.read_excel('~/Desktop/销售客流pandas/品牌库.xlsx')\n",
    "df2021 =df2021[['项目名称','铺位类型','品牌名称','营业额','营业额日期']]\n",
    "df_ppk = df_ppk[['品牌名称','业态']]\n",
    "df2021_ppk = pd.merge(df2021,df_ppk,on='品牌名称',how='left')\n",
    "df2021_ppk['月份'] = df2021_ppk['营业额日期'].dt.month\n",
    "df2021_ppk_res = df2021_ppk.groupby(by=['项目名称','月份']).agg({'营业额':'sum'}).reset_index()\n",
    "print(df2021_ppk_res.T)\n",
    "\n",
    "df_ppk = pd.read_excel('~/Desktop/销售客流pandas/品牌库.xlsx')\n",
    "df2022 =df2022[['项目名称','铺位类型','品牌名称','营业额','营业额日期']]\n",
    "df_ppk = df_ppk[['品牌名称','业态']]\n",
    "df2022_ppk = pd.merge(df2022,df_ppk,on='品牌名称',how='left')\n",
    "\n",
    "df2022_ppk['月份'] = df2022_ppk['营业额日期'].dt.month\n",
    "df2022_ppk_res = df2022_ppk.groupby(by=['项目名称','月份']).agg({'营业额':'sum'}).reset_index()\n",
    "\n",
    "\n",
    "\n",
    "# with pd.ExcelWriter('~/Desktop/销售客流pandas/ppt4.xlsx') as writer:\n",
    "#     i = 0\n",
    "#     for yt in yetai:\n",
    "#         dtmp = df2022_ppk_res.loc[(df2022_ppk_res['业态'].str.strip() == yt)]\n",
    "#         dtmp['营业额'] = dtmp['营业额']/10000\n",
    "#         dtmp.round(0)\n",
    "#         dtmp.T.to_excel(writer,sheet_name= yt,index=False)\n",
    "#         i += 1\n",
    "\n",
    "d = days_between(date(2022,1,1),date(2022,7,1))\n",
    "\n",
    "# 2022 1-6月 日均销售\n",
    "def get_xs_rijun(df2022_pk):\n",
    "    df2022_ppk = df2022_pk.groupby(by=['项目名称','营业额日期']).agg({'营业额':'sum'}).reset_index()\n",
    "    df2022_ppk['营业额'] = df2022_pk['营业额']/10000\n",
    "    dff = df2022_pk.groupby(by=['项目名称']).agg({'营业额':'sum'}).reset_index()\n",
    "    dff['总销售额']  = dff['营业额']\n",
    "    dff['日均销售额']=dff['营业额']/d[0]\n",
    "    dff['天数'] = d[0]\n",
    "    return dff\n",
    "\n",
    "# 2022 1-6月 各业态销售\n",
    "def get_xs_by_yt(df2022_pk):\n",
    "    \n",
    "    ## 1、按项目、业态、月份分组汇总\n",
    "    df2022_pk['月份'] = df2022_pk['营业额日期'].dt.month\n",
    "    df2022_pk_yt = df2022_pk.groupby(by=['项目名称','业态','月份']).agg({'营业额':'sum'}).reset_index()\n",
    "    df_nj = df2022_pk_yt.sort_values(by=['项目名称','业态','月份'])\n",
    "    from functools import reduce\n",
    "\n",
    "    ## 2、行转列、合并、整理\n",
    "    yetai = ['主次力店','餐饮','儿童','服装','精品','娱乐','服务']\n",
    "    df_r = pd.DataFrame()\n",
    "    dflist = []\n",
    "    for yt in yetai :\n",
    "        dtmp = df_nj.loc[(df_nj.业态.str.strip() == yt)][['月份','营业额']].T.reset_index()\n",
    "        dtmp.columns = ['项目','一月','二月','三月','四月','五月','六月']\n",
    "        dr = dtmp[1:].copy()\n",
    "        dr['项目'] = '南京弘阳广场'\n",
    "        dr[['项目整体']] = yt\n",
    "        dflist.append(dr)\n",
    "    \n",
    "    df_res = reduce(lambda left,right:pd.concat([left,right],ignore_index=True),dflist)\n",
    "    df_res['一月'] = df_res['一月']/10000\n",
    "    df_res['二月'] = df_res['二月']/10000\n",
    "    df_res['三月'] = df_res['三月']/10000\n",
    "    df_res['四月'] = df_res['四月']/10000\n",
    "    df_res['五月'] = df_res['五月']/10000\n",
    "    df_res['六月'] = df_res['六月']/10000\n",
    "    df_res['总销售额'] = df_res['一月'] +df_res['二月'] +df_res['三月'] +df_res['四月']+df_res['五月']+df_res['六月']\n",
    "    return  df_res.round(0)\n",
    "\n",
    "# df_yt_2021 = get_xs_by_yt(df2021_ppk)\n",
    "df_yt_2022 = get_xs_by_yt(df2022_ppk)\n",
    "df_rj_2021 = get_xs_rijun(df2021_ppk)\n",
    "df_rj_2022 = get_xs_rijun(df2022_ppk)\n",
    "dt11,dt12,dt21,dt22=date(2021,1,1),date(2021,7,1),date(2022,1,1),date(2022,7,1)\n",
    "df_all = get_diff_xs(df2021_ppk,df2022_ppk,0,'南京弘阳广场',dt11,dt12,dt21,dt22)\n",
    "# df_zcl = get_diff_xs(df2021_ppk,df2022_ppk,1,'南京弘阳广场')\n",
    "# df_yb = get_diff_xs(df2021_ppk,df2022_ppk,2,'南京弘阳广场')\n",
    "# df_zcl\n",
    "df_rj_2021.round(0)\n"
   ]
  },
  {
   "cell_type": "code",
   "execution_count": null,
   "metadata": {
    "pycharm": {
     "name": "#%%\n"
    }
   },
   "outputs": [],
   "source": [
    "df_rj_2022"
   ]
  },
  {
   "cell_type": "code",
   "execution_count": null,
   "metadata": {
    "pycharm": {
     "name": "#%%\n"
    }
   },
   "outputs": [],
   "source": [
    "df_all\n"
   ]
  },
  {
   "cell_type": "code",
   "execution_count": null,
   "metadata": {
    "pycharm": {
     "name": "#%%\n"
    }
   },
   "outputs": [],
   "source": [
    "df_yt_2022"
   ]
  },
  {
   "cell_type": "code",
   "execution_count": null,
   "metadata": {
    "pycharm": {
     "name": "#%%\n"
    }
   },
   "outputs": [],
   "source": [
    "df2022_ppk"
   ]
  },
  {
   "cell_type": "markdown",
   "metadata": {
    "pycharm": {
     "name": "#%% md\n"
    }
   },
   "source": [
    "### 客流：平日/周末客流统计"
   ]
  },
  {
   "cell_type": "code",
   "execution_count": null,
   "metadata": {
    "pycharm": {
     "name": "#%%\n"
    }
   },
   "outputs": [],
   "source": [
    "import pandas as pd\n",
    "import numpy as np\n",
    "\n",
    "df_1 = pd.read_excel('~/Desktop/销售客流pandas/南京弘阳广场客流202101-06.xls',header=5)\n",
    "df_a1= df_1.loc[(df_1.属性 =='平时') | (df_1.属性 =='周末')][['日期','星期','属性','P00011']].sort_values(by='日期').rename(columns={'P00011':'客流'})\n",
    "\n",
    "df_ps1= df_a1.loc[(df_a1.属性 =='平时')][['日期','星期','属性','客流']].sort_values(by='日期')\n",
    "df_zm1= df_a1.loc[(df_a1.属性 =='周末')][['日期','星期','属性','客流']].sort_values(by='日期')\n",
    "df_a1['日期'] = pd.to_datetime(df_a1['日期'],format='%Y-%m-%d')\n",
    "df_a1['月份'] =df_a1['日期'].dt.month\n",
    "r1 = df_a1.groupby(by=['月份']).agg({'客流':'sum'}).reset_index()\n",
    "\n",
    "df_ps1=df_ps1.groupby(df_ps1.属性).agg({'客流':'sum'}).reset_index()\n",
    "df_zm1=df_zm1.groupby(df_zm1.属性).agg({'客流':'sum'}).reset_index()\n",
    "\n",
    "df_2 = pd.read_excel('~/Desktop/销售客流pandas/南京弘阳广场客流202201-06.xls',header=5)\n",
    "df_a2= df_2.loc[(df_2.属性 =='平时') | (df_2.属性 =='周末')][['日期','星期','属性','P00011']].sort_values(by='日期').rename(columns={'P00011':'客流'}).reset_index()\n",
    "df_ps2= df_a2.loc[(df_a2.属性 =='平时')][['日期','星期','属性','客流']].sort_values(by='日期')\n",
    "df_zm2= df_a2.loc[(df_a2.属性 =='周末')][['日期','星期','属性','客流']].sort_values(by='日期')\n",
    "df_ps2=df_ps2.groupby(df_ps2.属性).agg({'客流':'sum'}).reset_index()\n",
    "df_zm2=df_zm2.groupby(df_zm2.属性).agg({'客流':'sum'}).reset_index()\n",
    "\n",
    "df_a2['日期'] = pd.to_datetime(df_a2['日期'],format='%Y-%m-%d')\n",
    "df_a2['月份'] =df_a2['日期'].dt.month\n",
    "r2 = df_a2.groupby(by=['月份']).agg({'客流':'sum'}).reset_index()\n",
    "# r2.T\n",
    "(df_ps1,df_zm1)"
   ]
  },
  {
   "cell_type": "markdown",
   "metadata": {
    "pycharm": {
     "name": "#%% md\n"
    }
   },
   "source": [
    "### 根据品牌库、销售导出数据 计算"
   ]
  },
  {
   "cell_type": "code",
   "execution_count": null,
   "metadata": {
    "pycharm": {
     "name": "#%%\n"
    }
   },
   "outputs": [],
   "source": [
    "import pandas as pd\n",
    "import numpy as np\n",
    "from output_style_format import to_excel_auto_column_weight\n",
    "\n",
    "def get_df(folderpath,shoppingmall,month:str):\n",
    "    #folderpath,month1,month2,shoppingmall,form\n",
    "    df_xs_all = pd.read_excel(folderpath+shoppingmall+month+'.xlsx')\n",
    "    df_ppk = pd.read_excel(folderpath+'/品牌库.xlsx')\n",
    "\n",
    "\n",
    "    df_xs_all =df_xs_all[['项目名称','铺位类型','品牌名称','营业额','营业额日期']]\n",
    "    df_ppk = df_ppk[['品牌名称','业态']]\n",
    "\n",
    "    df_xs_all_ppk = pd.merge(df_xs_all,df_ppk,on='品牌名称',how='left')\n",
    "\n",
    "    df_xs_zcld = df_xs_all_ppk.loc[(df_xs_all_ppk.业态=='主次力店')]\n",
    "    df_xs_zcld = df_xs_zcld.groupby(df_xs_zcld.营业额日期).agg({'营业额':'sum'}).reset_index()\n",
    "\n",
    "    df_xs_ybdp = df_xs_all_ppk.loc[(df_xs_all_ppk.业态!='主次力店')]\n",
    "    df_xs_ybdp = df_xs_ybdp.groupby(df_xs_ybdp.营业额日期).agg({'营业额':'sum'}).reset_index()\n",
    "\n",
    "    df_xs_zcld['营业额日期']=df_xs_zcld['营业额日期'].apply(lambda x : x.strftime('%Y-%m-%d'))\n",
    "    df_xs_ybdp['营业额日期']=df_xs_ybdp['营业额日期'].apply(lambda x : x.strftime('%Y-%m-%d'))\n",
    "\n",
    "    return df_xs_zcld,df_xs_ybdp\n",
    "\n",
    "df1,df2=get_df('~/Desktop/销售客流pandas/','合肥弘阳广场','202105')\n",
    "df5,df6=get_df('~/Desktop/销售客流pandas/','合肥弘阳广场','202205')\n",
    "\n",
    "with pd.ExcelWriter('~/Desktop/销售客流pandas/xs_合肥弘阳广场1.xlsx',engine=\"openpyxl\") as writer:\n",
    "    to_excel_auto_column_weight(df1,writer,'主次力店202105')\n",
    "    to_excel_auto_column_weight(df2,writer,'一般店铺202105')\n",
    "    to_excel_auto_column_weight(df5,writer,'主次力店202205')\n",
    "    to_excel_auto_column_weight(df6,writer,'一般店铺202205')\n",
    "\n"
   ]
  },
  {
   "cell_type": "code",
   "execution_count": null,
   "metadata": {
    "pycharm": {
     "name": "#%%\n"
    }
   },
   "outputs": [],
   "source": [
    "import pandas as pd\n",
    "import numpy as np\n",
    "\n",
    "from datetime import datetime\n",
    "\n",
    "\n",
    "def get_diff_xs(folderpath,month1,month2,shoppingmall,form):\n",
    "    \"\"\"\n",
    "    Parameters: Str: month1,month2,shoppingmall\n",
    "    get_diff_xs('~/Desktop/销售客流pandas/','202105','202205','合肥弘阳广场',0)\n",
    "    form:0-所有业态；1-主次力店；2-一般商铺\n",
    "    Return :\n",
    "    项目名称\t 平日销售日均\t 周末销售日均\t周末/平日比\t周末占比同比\n",
    "    合肥弘阳广场\t788503.48\t1123773.68  \t0.58\t-0.39\n",
    "    \"\"\"\n",
    "    #导入数据并整理\n",
    "    df_xs_zp = pd.read_excel(folderpath+shoppingmall+month1+'.xlsx')\n",
    "    df_xs_dj = pd.read_excel(folderpath+shoppingmall+month2+'.xlsx')\n",
    "    df_ppk = pd.read_excel('~/Desktop/销售客流pandas/品牌库.xlsx')\n",
    "    df_xs_zp =df_xs_zp[['项目名称','铺位类型','品牌名称','营业额','营业额日期']]\n",
    "    df_xs_dj =df_xs_dj[['项目名称','铺位类型','品牌名称','营业额','营业额日期']]\n",
    "    df_xs_zp['营业额日期']=df_xs_zp.营业额日期.apply(lambda x:x.date())\n",
    "    df_xs_dj['营业额日期']=df_xs_dj.营业额日期.apply(lambda x:x.date())\n",
    "\n",
    "    df_ppk = df_ppk[['品牌名称','业态']]\n",
    "    df_xs_all_ppk1 = pd.merge(df_xs_zp,df_ppk,on='品牌名称',how='left')\n",
    "    df_xs_all_ppk2 = pd.merge(df_xs_dj,df_ppk,on='品牌名称',how='left')\n",
    "    #根据业态，区分销售数据的统计范围\n",
    "    if form==1:\n",
    "        df_xs_all_ppk1=df_xs_all_ppk1.loc[(df_xs_all_ppk1.业态=='主次力店')]\n",
    "        df_xs_all_ppk2=df_xs_all_ppk2.loc[(df_xs_all_ppk2.业态=='主次力店')]\n",
    "    if form==2:\n",
    "        df_xs_all_ppk1=df_xs_all_ppk1.loc[(df_xs_all_ppk1.业态!='主次力店')]\n",
    "        df_xs_all_ppk2=df_xs_all_ppk2.loc[(df_xs_all_ppk2.业态!='主次力店')]\n",
    "\n",
    "    #month1 周末平日销售结果\n",
    "    df_xs_all_ppk1['周末'] = df_xs_all_ppk1['营业额日期'].apply(lambda x: '是' if x.weekday() >4 else '否')\n",
    "    df_tmp1 = df_xs_all_ppk1.groupby(by='周末').agg({'营业额':'sum'}).reset_index()\n",
    "    df_tmp1['日均营业额']=df_tmp1.apply(lambda x:x['营业额']/9 if x['周末']=='是' else x['营业额']/22,axis=1)\n",
    "\n",
    "    a,b,c=df_tmp1.iat[0,2],df_tmp1.iat[1,2],df_tmp1.iat[1,1]/df_tmp1.iat[0,1]\n",
    "    df_xs_res1 = pd.DataFrame(data={'项目名称':['合肥弘阳广场'],'平日销售日均':[a],'周末销售日均':[b],'周末/平日比':[c]})\n",
    "    df1 = df_xs_res1.reset_index()\n",
    "\n",
    "    #month2 周末平日销售结果\n",
    "    df_xs_all_ppk2['周末'] = df_xs_all_ppk2['营业额日期'].apply(lambda x: '是' if x.weekday() >4 else '否')\n",
    "    df_tmp2 = df_xs_all_ppk2.groupby(by='周末').agg({'营业额':'sum'}).reset_index()\n",
    "    df_tmp2['日均营业额']=df_tmp2.apply(lambda x:x['营业额']/9 if x['周末']=='是' else x['营业额']/22,axis=1)\n",
    "\n",
    "    a,b,c=df_tmp2.iat[0,2],df_tmp2.iat[1,2],df_tmp2.iat[1,1]/df_tmp2.iat[0,1]\n",
    "    df_xs_res2 = pd.DataFrame(data={'项目名称':['合肥弘阳广场'],'平日销售日均':[a],'周末销售日均':[b],'周末/平日比':[c]})\n",
    "    df2 = df_xs_res2.reset_index()\n",
    "\n",
    "    #输出同比结果\n",
    "    df2['上期周末占比']=df1.iat[0,4]\n",
    "    df2['周末占比同比']=df2.iat[0,4]-df1.iat[0,4]\n",
    "\n",
    "    return df2.round(2)\n",
    "\n",
    "df_all = get_diff_xs('~/Desktop/销售客流pandas/','202105','202205','合肥弘阳广场',0)\n",
    "df_zcld = get_diff_xs('~/Desktop/销售客流pandas/','202105','202205','合肥弘阳广场',1)\n",
    "df_ybsp = get_diff_xs('~/Desktop/销售客流pandas/','202105','202205','合肥弘阳广场',2)\n",
    "\n",
    "with pd.ExcelWriter('~/Downloads/xs_hefei.xlsx') as writer:\n",
    "    df_all.to_excel(writer,sheet_name='所有业态')\n",
    "    df_zcld.to_excel(writer,sheet_name='主次力店')\n",
    "    df_ybsp.to_excel(writer,sheet_name='一般商铺')\n"
   ]
  },
  {
   "cell_type": "code",
   "execution_count": null,
   "metadata": {
    "pycharm": {
     "name": "#%%\n"
    }
   },
   "outputs": [],
   "source": [
    "import pandas as pd\n",
    "import numpy as np\n",
    "\n",
    "df_tj =pd.read_excel('~/Downloads/xs_hf_2205.xlsx',sheet_name='统计表',header=2)\n",
    "df_hf_202105 =pd.read_excel('~/Downloads/xs_hf_2205.xlsx',sheet_name='主次力店202105')\n",
    "df_hf_202205 =pd.read_excel('~/Downloads/xs_hf_2205.xlsx',sheet_name='主次力店202205')\n",
    "\n",
    "df1=df_tj.iloc[:,1:]\n",
    "df2=df_tj.iloc[:,:4]\n",
    "\n",
    "with pd.ExcelWriter('~/Downloads/11111.xlsx') as writer:\n",
    "    df1.to_excel(writer,sheet_name='s1')\n",
    "    df2.to_excel(writer,sheet_name='s1',startrow=4)"
   ]
  },
  {
   "cell_type": "code",
   "execution_count": null,
   "metadata": {
    "pycharm": {
     "name": "#%%\n"
    }
   },
   "outputs": [],
   "source": [
    "\n",
    "dd = df_jy[['客户编号']]\n",
    "dd"
   ]
  },
  {
   "cell_type": "code",
   "execution_count": null,
   "metadata": {
    "pycharm": {
     "name": "#%%\n"
    }
   },
   "outputs": [],
   "source": [
    "import pandas as pd\n",
    "\n",
    "# 设定最大显示行数、列数为10000\n",
    "pd.set_option('display.max_rows', 100)\n",
    "pd.set_option('display.max_columns', 50)\n",
    "pd.set_option('display.width', 10000)"
   ]
  },
  {
   "cell_type": "code",
   "execution_count": null,
   "metadata": {
    "pycharm": {
     "name": "#%%\n"
    }
   },
   "outputs": [],
   "source": [
    "import pandas as pd\n",
    "import numpy as np\n",
    "\n",
    "df_jy = pd.read_excel('~/Downloads/客户/客户_竞优20220715.xls')\n",
    "dd_jy = df_jy[['客户编码','客户姓名','法人身份证号码']]\n",
    "df_zz = pd.read_excel('~/Downloads/客户/客户_总账20220715.xlsx')\n",
    "df_jd = pd.read_excel('~/Downloads/客户/客户_金蝶20220715.xlsx')\n",
    "\n",
    "# dd_jd = df_jd[['客户编号','名称']]\n",
    "df = pd.merge(df_jd,df_zz,on='客户编码',how='left') # 先筛选金蝶中没被总账引用的客户，然后拿筛选结果去对比竞优的数据，对比结果中竞优没有的就要 反核准。\n",
    "\n",
    "df1 =  df.loc[(pd.isna(df.创建人))] # df1 金蝶中未被总账使用的客户\n",
    "\n",
    "df2 = pd.merge(df1,df_jy,on='客户编码',how='left')\n",
    "df3  = df2.loc[(pd.isna(df2.客户姓名))]\n",
    "# with pd.ExcelWriter('~/Downloads/客户/竞优无-07151616.xlsx') as writer:\n",
    "#     df3.to_excel(writer,sheet_name='1')\n",
    "df3"
   ]
  },
  {
   "cell_type": "code",
   "execution_count": null,
   "metadata": {
    "pycharm": {
     "name": "#%%\n"
    }
   },
   "outputs": [],
   "source": [
    "import pandas as pd\n",
    "import numpy as np\n",
    "\n",
    "df_jczl = pd.read_excel('~/Downloads/客户/jczl.xlsx')\n",
    "df_jczl = df_jczl[['编码','名称','税务登记号','创建时间']]\n",
    "df_jczl['客户编码'] = df_jczl['编码']\n",
    "\n",
    "df_cwzl = pd.read_excel('~/Downloads/客户/cwzl.xlsx')\n",
    "df_cwzl = df_cwzl[['客户编码','财务组织编码']]\n",
    "df = pd.merge(df_jczl,df_cwzl,on='客户编码',how='right')\n",
    "\n",
    "df =  df.loc[(pd.isna(df.名称))]\n",
    "\n",
    "with pd.ExcelWriter('~/Downloads/客户/竞优无.xlsx') as writer:\n",
    "    df.to_excel(writer,sheet_name='1')"
   ]
  },
  {
   "cell_type": "code",
   "execution_count": null,
   "metadata": {
    "pycharm": {
     "name": "#%%\n"
    }
   },
   "outputs": [],
   "source": [
    "from pyecharts.components import Table\n",
    "from pyecharts.options import ComponentTitleOpts\n",
    "\n",
    "\n",
    "table = Table()\n",
    "\n",
    "headers = [\"City name\", \"Area\", \"Population\", \"Annual Rainfall\"]\n",
    "rows = [\n",
    "    [\"Brisbane\", 5905, 1857594, 1146.4],\n",
    "    [\"Adelaide\", 1295, 1158259, 600.5],\n",
    "    [\"Darwin\", 112, 120900, 1714.7],\n",
    "    [\"Hobart\", 1357, 205556, 619.5],\n",
    "    [\"Sydney\", 2058, 4336374, 1214.8],\n",
    "    [\"Melbourne\", 1566, 3806092, 646.9],\n",
    "    [\"Perth\", 5386, 1554769, 869.4],\n",
    "]\n",
    "table.add(headers, rows)\n",
    "table.set_global_opts(\n",
    "    title_opts=ComponentTitleOpts(title=\"Table-基本示例\", subtitle=\"我是副标题支持换行哦\")\n",
    ")\n",
    "table.render_notebook()"
   ]
  },
  {
   "cell_type": "code",
   "execution_count": 20,
   "metadata": {
    "pycharm": {
     "name": "#%%\n"
    }
   },
   "outputs": [
    {
     "data": {
      "text/html": [
       "\n",
       "<script>\n",
       "    require.config({\n",
       "        paths: {\n",
       "            'echarts':'https://assets.pyecharts.org/assets/echarts.min'\n",
       "        }\n",
       "    });\n",
       "</script>\n",
       "\n",
       "        <div id=\"b9c42175701c401999a250b23e02aa5e\" style=\"width:900px; height:500px;\"></div>\n",
       "\n",
       "<script>\n",
       "        require(['echarts'], function(echarts) {\n",
       "                var chart_b9c42175701c401999a250b23e02aa5e = echarts.init(\n",
       "                    document.getElementById('b9c42175701c401999a250b23e02aa5e'), 'white', {renderer: 'canvas'});\n",
       "                var option_b9c42175701c401999a250b23e02aa5e = {\n",
       "    \"animation\": true,\n",
       "    \"animationThreshold\": 2000,\n",
       "    \"animationDuration\": 1000,\n",
       "    \"animationEasing\": \"cubicOut\",\n",
       "    \"animationDelay\": 0,\n",
       "    \"animationDurationUpdate\": 300,\n",
       "    \"animationEasingUpdate\": \"cubicOut\",\n",
       "    \"animationDelayUpdate\": 0,\n",
       "    \"color\": [\n",
       "        \"#c23531\",\n",
       "        \"#2f4554\",\n",
       "        \"#61a0a8\",\n",
       "        \"#d48265\",\n",
       "        \"#749f83\",\n",
       "        \"#ca8622\",\n",
       "        \"#bda29a\",\n",
       "        \"#6e7074\",\n",
       "        \"#546570\",\n",
       "        \"#c4ccd3\",\n",
       "        \"#f05b72\",\n",
       "        \"#ef5b9c\",\n",
       "        \"#f47920\",\n",
       "        \"#905a3d\",\n",
       "        \"#fab27b\",\n",
       "        \"#2a5caa\",\n",
       "        \"#444693\",\n",
       "        \"#726930\",\n",
       "        \"#b2d235\",\n",
       "        \"#6d8346\",\n",
       "        \"#ac6767\",\n",
       "        \"#1d953f\",\n",
       "        \"#6950a1\",\n",
       "        \"#918597\"\n",
       "    ],\n",
       "    \"series\": [\n",
       "        {\n",
       "            \"type\": \"sankey\",\n",
       "            \"name\": \"sankey\",\n",
       "            \"data\": [\n",
       "                {\n",
       "                    \"name\": \"category1\"\n",
       "                },\n",
       "                {\n",
       "                    \"name\": \"category2\"\n",
       "                },\n",
       "                {\n",
       "                    \"name\": \"category3\"\n",
       "                },\n",
       "                {\n",
       "                    \"name\": \"category4\"\n",
       "                },\n",
       "                {\n",
       "                    \"name\": \"category5\"\n",
       "                },\n",
       "                {\n",
       "                    \"name\": \"category6\"\n",
       "                }\n",
       "            ],\n",
       "            \"links\": [\n",
       "                {\n",
       "                    \"source\": \"category1\",\n",
       "                    \"target\": \"category2\",\n",
       "                    \"value\": 10\n",
       "                },\n",
       "                {\n",
       "                    \"source\": \"category2\",\n",
       "                    \"target\": \"category3\",\n",
       "                    \"value\": 15\n",
       "                },\n",
       "                {\n",
       "                    \"source\": \"category3\",\n",
       "                    \"target\": \"category4\",\n",
       "                    \"value\": 20\n",
       "                },\n",
       "                {\n",
       "                    \"source\": \"category5\",\n",
       "                    \"target\": \"category6\",\n",
       "                    \"value\": 25\n",
       "                }\n",
       "            ],\n",
       "            \"left\": \"5%\",\n",
       "            \"top\": \"5%\",\n",
       "            \"right\": \"20%\",\n",
       "            \"bottom\": \"5%\",\n",
       "            \"nodeWidth\": 20,\n",
       "            \"nodeGap\": 8,\n",
       "            \"nodeAlign\": \"justify\",\n",
       "            \"layoutIteration\": 32,\n",
       "            \"orient\": \"horizontal\",\n",
       "            \"draggable\": true,\n",
       "            \"focusNodeAdjacency\": false,\n",
       "            \"label\": {\n",
       "                \"show\": true,\n",
       "                \"position\": \"right\",\n",
       "                \"margin\": 8\n",
       "            },\n",
       "            \"lineStyle\": {\n",
       "                \"show\": true,\n",
       "                \"width\": 1,\n",
       "                \"opacity\": 0.2,\n",
       "                \"curveness\": 0.5,\n",
       "                \"type\": \"solid\",\n",
       "                \"color\": \"source\"\n",
       "            }\n",
       "        }\n",
       "    ],\n",
       "    \"legend\": [\n",
       "        {\n",
       "            \"data\": [\n",
       "                \"sankey\"\n",
       "            ],\n",
       "            \"selected\": {\n",
       "                \"sankey\": true\n",
       "            },\n",
       "            \"show\": true,\n",
       "            \"padding\": 5,\n",
       "            \"itemGap\": 10,\n",
       "            \"itemWidth\": 25,\n",
       "            \"itemHeight\": 14\n",
       "        }\n",
       "    ],\n",
       "    \"tooltip\": {\n",
       "        \"show\": true,\n",
       "        \"trigger\": \"item\",\n",
       "        \"triggerOn\": \"mousemove|click\",\n",
       "        \"axisPointer\": {\n",
       "            \"type\": \"line\"\n",
       "        },\n",
       "        \"showContent\": true,\n",
       "        \"alwaysShowContent\": false,\n",
       "        \"showDelay\": 0,\n",
       "        \"hideDelay\": 100,\n",
       "        \"textStyle\": {\n",
       "            \"fontSize\": 14\n",
       "        },\n",
       "        \"borderWidth\": 0,\n",
       "        \"padding\": 5\n",
       "    },\n",
       "    \"title\": [\n",
       "        {\n",
       "            \"text\": \"Sankey-\\u57fa\\u672c\\u793a\\u4f8b\",\n",
       "            \"padding\": 5,\n",
       "            \"itemGap\": 10\n",
       "        }\n",
       "    ]\n",
       "};\n",
       "                chart_b9c42175701c401999a250b23e02aa5e.setOption(option_b9c42175701c401999a250b23e02aa5e);\n",
       "        });\n",
       "    </script>\n"
      ],
      "text/plain": [
       "<pyecharts.render.display.HTML at 0x7fef9159a3d0>"
      ]
     },
     "execution_count": 20,
     "metadata": {},
     "output_type": "execute_result"
    }
   ],
   "source": [
    "from pyecharts import options as opts\n",
    "from pyecharts.charts import Sankey\n",
    "\n",
    "nodes = [\n",
    "    {\"name\": \"category1\"},\n",
    "    {\"name\": \"category2\"},\n",
    "    {\"name\": \"category3\"},\n",
    "    {\"name\": \"category4\"},\n",
    "    {\"name\": \"category5\"},\n",
    "    {\"name\": \"category6\"},\n",
    "]\n",
    "\n",
    "links = [\n",
    "    {\"source\": \"category1\", \"target\": \"category2\", \"value\": 10},\n",
    "    {\"source\": \"category2\", \"target\": \"category3\", \"value\": 15},\n",
    "    {\"source\": \"category3\", \"target\": \"category4\", \"value\": 20},\n",
    "    {\"source\": \"category5\", \"target\": \"category6\", \"value\": 25},\n",
    "]\n",
    "c = (\n",
    "    Sankey()\n",
    "    .add(\n",
    "        \"sankey\",\n",
    "        nodes,\n",
    "        links,\n",
    "        linestyle_opt=opts.LineStyleOpts(opacity=0.2, curve=0.5, color=\"source\"),\n",
    "        label_opts=opts.LabelOpts(position=\"right\"),\n",
    "    )\n",
    "    .set_global_opts(title_opts=opts.TitleOpts(title=\"Sankey-基本示例\"))\n",
    "    .render_notebook()\n",
    ")\n",
    "\n",
    "c"
   ]
  },
  {
   "cell_type": "code",
   "execution_count": null,
   "metadata": {
    "pycharm": {
     "name": "#%%\n"
    }
   },
   "outputs": [],
   "source": [
    "df = pd.read_clipboard()\n",
    "df\n"
   ]
  },
  {
   "cell_type": "code",
   "execution_count": null,
   "metadata": {
    "pycharm": {
     "name": "#%%\n"
    }
   },
   "outputs": [],
   "source": [
    "\n",
    "(\n",
    "    df.loc[:, ['content']] # 选取标识列，与下行时间转换后形成新的 df\n",
    "    .assign(time=pd.to_datetime(df['date'] + ' ' +df['time']))\n",
    "    # 时间分组，每两分钟分组到一起\n",
    "    .groupby(pd.Grouper(freq='2Min', key='time'))\n",
    "    # 聚合方法为计算标识的数量\n",
    "    .apply(lambda x: x.content.value_counts())\n",
    "    .unstack() # 解除堆叠\n",
    "    .fillna(0)\n",
    "    .astype(int).reset_index()\n",
    ")"
   ]
  },
  {
   "cell_type": "code",
   "execution_count": null,
   "metadata": {
    "pycharm": {
     "name": "#%%\n"
    }
   },
   "outputs": [],
   "source": [
    "index = pd.MultiIndex.from_tuples([('one', 'a'), ('one', 'b'),\n",
    "                                   ('two', 'a'), ('two', 'b')])\n",
    "s = pd.Series(np.arange(1.0, 5.0), index=index)\n",
    "\n",
    "s"
   ]
  },
  {
   "cell_type": "code",
   "execution_count": null,
   "metadata": {
    "pycharm": {
     "name": "#%%\n"
    }
   },
   "outputs": [],
   "source": [
    "f=s.T\n",
    "f"
   ]
  },
  {
   "cell_type": "code",
   "execution_count": null,
   "metadata": {
    "pycharm": {
     "name": "#%%\n"
    }
   },
   "outputs": [],
   "source": [
    "s.unstack(0)"
   ]
  },
  {
   "cell_type": "code",
   "execution_count": null,
   "metadata": {
    "pycharm": {
     "name": "#%%\n"
    }
   },
   "outputs": [],
   "source": [
    "pd.date_range(\"2022-07-06\", periods=10, freq=\"B\")"
   ]
  },
  {
   "cell_type": "code",
   "execution_count": null,
   "metadata": {
    "pycharm": {
     "name": "#%%\n"
    }
   },
   "outputs": [],
   "source": [
    "df = pd.DataFrame({\"A\": [\"foo\", \"foo\", \"foo\", \"foo\", \"foo\",\n",
    "                         \"bar\", \"bar\", \"bar\", \"bar\"],\n",
    "                   \"B\": [\"one\", \"one\", \"one\", \"two\", \"two\",\n",
    "                         \"one\", \"one\", \"two\", \"two\"],\n",
    "                   \"C\": [\"small\", \"large\", \"large\", \"small\",\n",
    "                         \"small\", \"large\", \"small\", \"small\",\n",
    "                         \"large\"],\n",
    "                   \"D\": [1, 2, 2, 3, 3, 4, 5, 6, 7],\n",
    "                   \"E\": [2, 4, 5, 5, 6, 6, 8, 9, 9]})\n",
    "\n",
    "table = pd.pivot_table(df, values='D', index=['A', 'B'],\n",
    "                    columns=['C'], aggfunc=np.sum)\n",
    "\n",
    "df"
   ]
  },
  {
   "cell_type": "code",
   "execution_count": null,
   "metadata": {
    "pycharm": {
     "name": "#%%\n"
    }
   },
   "outputs": [],
   "source": [
    "import pandas as pd\n",
    "\n",
    "df = pd.read_clipboard()\n",
    "df"
   ]
  },
  {
   "cell_type": "code",
   "execution_count": null,
   "metadata": {
    "pycharm": {
     "name": "#%%\n"
    }
   },
   "outputs": [],
   "source": [
    "user_info_reset_index = df\n",
    "user_info_reset_index.melt(id_vars=['name'], value_vars=['sex'])"
   ]
  },
  {
   "cell_type": "code",
   "execution_count": null,
   "metadata": {
    "pycharm": {
     "name": "#%%\n"
    }
   },
   "outputs": [],
   "source": [
    "import pandas as pd\n",
    "import numpy as np\n",
    "\n",
    "df_wu = pd.read_excel('~/Downloads/客户/金蝶有竞优无-金蝶总账未引用.xlsx')\n",
    "\n",
    "df_jd = pd.read_excel('~/Downloads/客户/客户20220715172039.xlsx')\n",
    "\n",
    "# dd_jd = df_jd[['客户编号','名称']]\n",
    "df = pd.merge(df_wu,df_jd,on='客户编码',how='left') # 先筛选金蝶中没被总账引用的客户，然后拿筛选结果去对比竞优的数据，对比结果中竞优没有的就要 反核准。\n",
    "\n",
    "df1 =  df.loc[(pd.isna(df.名称2))] # df1 金蝶中未被总账使用的客户\n",
    "\n",
    "df1\n"
   ]
  },
  {
   "cell_type": "code",
   "execution_count": null,
   "metadata": {
    "pycharm": {
     "name": "#%%\n"
    }
   },
   "outputs": [],
   "source": [
    "import pandas as pd\n",
    "import tushare as ts\n",
    "import numpy as np\n",
    "pro =  ts.pro_api('5e4e8f2545d9be88ec337aa1f798038a7d0cf9751eafc5afa13e6a08')\n",
    "df = pro.daily(ts_code='300274.sz', start_date='20180701', end_date='20180718')\n",
    "df"
   ]
  },
  {
   "cell_type": "code",
   "execution_count": null,
   "metadata": {
    "pycharm": {
     "name": "#%%\n"
    }
   },
   "outputs": [],
   "source": [
    "import baostock as bs\n",
    "import pandas as pd\n",
    "\n",
    "#### 登陆系统 ####\n",
    "lg = bs.login()\n",
    "# 显示登陆返回信息\n",
    "print('login respond error_code:'+lg.error_code)\n",
    "print('login respond  error_msg:'+lg.error_msg)\n",
    "\n",
    "#### 获取沪深A股历史K线数据 ####\n",
    "# 详细指标参数，参见“历史行情指标参数”章节；“分钟线”参数与“日线”参数不同。“分钟线”不包含指数。\n",
    "# 分钟线指标：date,time,code,open,high,low,close,volume,amount,adjustflag\n",
    "# 周月线指标：date,code,open,high,low,close,volume,amount,adjustflag,turn,pctChg\n",
    "rs = bs.query_history_k_data_plus(\"300274.sz\",\n",
    "    \"date,code,open,high,low,close,preclose,volume,amount,adjustflag,turn,tradestatus,pctChg,isST\",\n",
    "    start_date='2017-07-01', end_date='2018-7-18',\n",
    "    frequency=\"d\", adjustflag=\"3\")\n",
    "print('query_history_k_data_plus respond error_code:'+rs.error_code)\n",
    "print('query_history_k_data_plus respond  error_msg:'+rs.error_msg)\n",
    "#### 打印结果集 ####\n",
    "data_list = []\n",
    "while (rs.error_code == '0') & rs.next():\n",
    "    # 获取一条记录，将记录合并在一起\n",
    "    data_list.append(rs.get_row_data())\n",
    "result = pd.DataFrame(data_list, columns=rs.fields)\n",
    "\n",
    "#### 结果集输出到csv文件 ####   \n",
    "result.to_csv(\"~/Downloads/history_A_stock_k_data.csv\", index=False)\n",
    "print(result)\n",
    "\n",
    "#### 登出系统 ####\n",
    "bs.logout()\n"
   ]
  },
  {
   "cell_type": "code",
   "execution_count": null,
   "metadata": {
    "pycharm": {
     "name": "#%%\n"
    }
   },
   "outputs": [],
   "source": [
    "import baostock as bs\n",
    "import pandas as pd\n",
    "\n",
    "#### 登陆系统 ####\n",
    "lg = bs.login()\n",
    "# 显示登陆返回信息\n",
    "print('login respond error_code:'+lg.error_code)\n",
    "print('login respond  error_msg:'+lg.error_msg)\n",
    "\n",
    "#### 获取沪深A股历史K线数据 ####\n",
    "# 详细指标参数，参见“历史行情指标参数”章节；“分钟线”参数与“日线”参数不同。“分钟线”不包含指数。\n",
    "# 分钟线指标：date,time,code,open,high,low,close,volume,amount,adjustflag\n",
    "# 周月线指标：date,code,open,high,low,close,volume,amount,adjustflag,turn,pctChg\n",
    "rs = bs.query_history_k_data_plus(\"sz.300274\",\n",
    "    \"date,time,code,open,high,low,close,volume,amount,adjustflag\",\n",
    "    start_date='2022-07-01', end_date='2022-07-16',\n",
    "    frequency=\"5\", adjustflag=\"3\")\n",
    "print('query_history_k_data_plus respond error_code:'+rs.error_code)\n",
    "print('query_history_k_data_plus respond  error_msg:'+rs.error_msg)\n",
    "\n",
    "#### 打印结果集 ####\n",
    "data_list = []\n",
    "while (rs.error_code == '0') & rs.next():\n",
    "    # 获取一条记录，将记录合并在一起\n",
    "    data_list.append(rs.get_row_data())\n",
    "result = pd.DataFrame(data_list, columns=rs.fields)\n",
    "\n",
    "#### 结果集输出到csv文件 ####   \n",
    "result.to_excel(\"~/Downloads/history_A_stock_k_data.xlsx\", index=False)\n",
    "print(result)\n",
    "\n",
    "#### 登出系统 ####\n",
    "bs.logout()"
   ]
  },
  {
   "cell_type": "code",
   "execution_count": null,
   "metadata": {
    "pycharm": {
     "name": "#%%\n"
    }
   },
   "outputs": [],
   "source": [
    "import baostock as bs\n",
    "import pandas as pd\n",
    "\n",
    "# 登陆系统\n",
    "lg = bs.login()\n",
    "# 显示登陆返回信息\n",
    "print('login respond error_code:'+lg.error_code)\n",
    "print('login respond  error_msg:'+lg.error_msg)\n",
    "\n",
    "# 获取行业分类数据\n",
    "rs = bs.query_stock_industry()\n",
    "# rs = bs.query_stock_basic(code_name=\"浦发银行\")\n",
    "print('query_stock_industry error_code:'+rs.error_code)\n",
    "print('query_stock_industry respond  error_msg:'+rs.error_msg)\n",
    "\n",
    "# 打印结果集\n",
    "industry_list = []\n",
    "while (rs.error_code == '0') & rs.next():\n",
    "    # 获取一条记录，将记录合并在一起\n",
    "    industry_list.append(rs.get_row_data())\n",
    "result = pd.DataFrame(industry_list, columns=rs.fields)\n",
    "# 结果集输出到csv文件\n",
    "result.to_excel(\"~/Downloads/hyfl.xlsx\", encoding=\"gbk\", index=False)\n",
    "print(result)\n",
    "\n",
    "# 登出系统\n",
    "bs.logout()\n"
   ]
  },
  {
   "cell_type": "code",
   "execution_count": null,
   "metadata": {
    "pycharm": {
     "name": "#%%\n"
    }
   },
   "outputs": [],
   "source": [
    "bs.login()\n",
    "date = '2022-07-15'\n",
    "# 获取指定日期的指数、股票数据\n",
    "stock_rs = bs.query_all_stock('2022-07-15')\n",
    "stock_df = stock_rs.get_data()\n",
    "data_df = pd.DataFrame()\n",
    "for code in stock_df[\"code\"]:\n",
    "    print(\"Downloading :\" + code)\n",
    "    k_rs = bs.query_history_k_data_plus(code, \"date,code,open,high,low,close\", date, date)\n",
    "    data_df = data_df.append(k_rs.get_data())\n",
    "bs.logout()\n",
    "data_df.to_excel(\"~/Downloads/allstockbydate.xlsx\", encoding=\"gbk\", index=False)\n",
    "print(data_df)\n"
   ]
  },
  {
   "cell_type": "code",
   "execution_count": 1,
   "metadata": {
    "pycharm": {
     "name": "#%%\n"
    }
   },
   "outputs": [
    {
     "name": "stdout",
     "output_type": "stream",
     "text": [
      "auth success \n"
     ]
    }
   ],
   "source": [
    "from jqdatasdk import *\n",
    "\n",
    "auth('17712910405','Momocha_1982') #账号是申请时所填写的手机号；密码为聚宽官网登录密码\n"
   ]
  },
  {
   "cell_type": "code",
   "execution_count": null,
   "metadata": {
    "pycharm": {
     "name": "#%%\n"
    }
   },
   "outputs": [],
   "source": [
    "# df = get_bars('002796.XSHE', 5, unit='1d',fields=['date','open','high','low','close'],include_now=False,end_dt='2022-8-05')\n",
    "df = get_price('002796.XSHE', end_date='2022-07-19 09:32:00',count=4, frequency='daily', fields=['open','close','high','low','volume','money','high_limit','paused'])\n",
    "df"
   ]
  },
  {
   "cell_type": "code",
   "execution_count": null,
   "metadata": {
    "pycharm": {
     "name": "#%%\n"
    }
   },
   "outputs": [],
   "source": [
    "get_security_info('000001.XSHE')"
   ]
  },
  {
   "cell_type": "code",
   "execution_count": null,
   "metadata": {
    "pycharm": {
     "name": "#%%\n"
    }
   },
   "outputs": [],
   "source": [
    "normalize_code('000625')"
   ]
  },
  {
   "cell_type": "code",
   "execution_count": null,
   "metadata": {
    "pycharm": {
     "name": "#%%\n"
    }
   },
   "outputs": [],
   "source": [
    "security ='000625.XSHE'\n",
    "# 获取股票的收盘价\n",
    "close_data5 = get_bars(security, count=5, unit='1d', fields=['close'])\n",
    "close_data10 = get_bars(security, count=10, unit='1d', fields=['close'])\n",
    "# 取得过去五天的平均价格\n",
    "MA5 = close_data5['close'].mean()\n",
    "MA10 = close_data10['close'].mean()\n",
    "MA5,MA10"
   ]
  },
  {
   "cell_type": "code",
   "execution_count": 8,
   "metadata": {
    "pycharm": {
     "name": "#%%\n"
    }
   },
   "outputs": [],
   "source": [
    "import pandas as pd\n",
    "ds = get_concept_stocks('SC0053', date=None)\n",
    "\n",
    "display_name = []\n",
    "code = []\n",
    "for ss in ds:\n",
    "    display_name.append(get_security_info(ss).display_name)\n",
    "    code.append(ss)\n",
    "ddf = pd.DataFrame(display_name,code)\n",
    "ddf.to_excel('~/Downloads/SC0053.xlsx')"
   ]
  },
  {
   "cell_type": "code",
   "execution_count": 13,
   "metadata": {
    "pycharm": {
     "name": "#%%\n"
    }
   },
   "outputs": [
    {
     "name": "stderr",
     "output_type": "stream",
     "text": [
      "/Users/zif/opt/anaconda3/lib/python3.9/site-packages/jqdatasdk/api.py:34: PanelObsoleteWarning: 当前环境 pandas 版本高于 0.25，get_price 与 get_fundamentals_continuously 接口的 panel 参数将固定为 False（0.25 及以上版本的 pandas 不再支持 panel，如使用该数据结构和相关函数请注意修改）\n",
      "  warnings.warn(PandasChecker.VERSION_NOTICE_MESSAGE, PanelObsoleteWarning)\n"
     ]
    }
   ],
   "source": [
    "ddff = get_price(ds, start_date='2022-08-02', end_date='2022-08-02', frequency='daily', fields=['open','close','high','high_limit','low','volume','money'], skip_paused=False, fq='pre', count=None)"
   ]
  },
  {
   "cell_type": "code",
   "execution_count": 14,
   "metadata": {
    "pycharm": {
     "name": "#%%\n"
    }
   },
   "outputs": [],
   "source": [
    "ddff.to_excel('~/Downloads/SC0053ss.xlsx')"
   ]
  },
  {
   "cell_type": "code",
   "execution_count": null,
   "metadata": {
    "pycharm": {
     "name": "#%%\n"
    }
   },
   "outputs": [],
   "source": [
    "import pandas as pd\n",
    "lst = get_concept_stocks('SC0232', date=None)\n",
    "dff =  pd.DataFrame(lst)\n",
    "# dff.to_excel('~/Downloads/20220718333.xlsx')\n",
    "[get_stock_info(s) for s in lst]"
   ]
  },
  {
   "cell_type": "code",
   "execution_count": null,
   "metadata": {
    "pycharm": {
     "name": "#%%\n"
    }
   },
   "outputs": [],
   "source": [
    "get_concept('002796.XSHE', date='2022-07-15')\n",
    "\n",
    "get_industry('002796.XSHE', date='2022-07-15')"
   ]
  },
  {
   "cell_type": "code",
   "execution_count": null,
   "metadata": {
    "pycharm": {
     "name": "#%%\n"
    }
   },
   "outputs": [],
   "source": [
    "dff =get_call_auction('002796.XSHE','2022-07-02','2022-07-22')\n",
    "dff"
   ]
  },
  {
   "cell_type": "code",
   "execution_count": null,
   "metadata": {
    "pycharm": {
     "name": "#%%\n"
    }
   },
   "outputs": [],
   "source": [
    "df=get_mtss('002796.XSHE','2022-07-02','2022-07-22',fields=['date','sec_code','fin_value','fin_buy_value','fin_refund_value','sec_value','sec_sell_value','sec_refund_value','fin_sec_value'])\n",
    "print(df[:5])"
   ]
  },
  {
   "cell_type": "code",
   "execution_count": null,
   "metadata": {
    "pycharm": {
     "name": "#%%\n"
    }
   },
   "outputs": [],
   "source": [
    "d = get_ticks(\"000001.XSHE\",start_dt=None, end_dt=\"2018-07-03\", count=8)\n",
    "print(d)"
   ]
  },
  {
   "cell_type": "code",
   "execution_count": null,
   "metadata": {
    "pycharm": {
     "name": "#%%\n"
    }
   },
   "outputs": [],
   "source": [
    "import datetime as dt\n",
    "\n",
    "date = list(get_trade_days(start_date='2012-1-1', end_date=dt.date.today()))\n",
    "stock_list = ['002796.XSHE']"
   ]
  },
  {
   "cell_type": "code",
   "execution_count": null,
   "metadata": {
    "pycharm": {
     "name": "#%%\n"
    }
   },
   "outputs": [],
   "source": [
    "for stock in stock_list:\n",
    "    df = get_price(stock, start_date='2012-1-1', end_date=dt.date.today(), frequency='1d', fields=None, \n",
    "                   skip_paused=True, fq='pre', panel=False, )\n",
    "    df['week'] = df.index.week\n",
    "    df['year'] = df.index.year\n",
    "    week_stock = df.groupby(['year', 'week'])[['open']].first()\n",
    "    week_stock['close'] = df.groupby(['year', 'week'])['close'].last()\n",
    "    week_stock['high'] = df.groupby(['year', 'week'])['high'].max()\n",
    "    week_stock['low'] = df.groupby(['year', 'week'])['low'].min()\n",
    "    week_stock['EMA_short'] = week_stock['close'].ewm(span=12, adjust=False).mean()\n",
    "    week_stock['EMA_long'] = week_stock['close'].ewm(span=26, adjust=False).mean()\n",
    "    week_stock['DIF'] = week_stock['EMA_short'] - week_stock['EMA_long']\n",
    "    week_stock['DEA'] = week_stock['DIF'].ewm(span=9, adjust=False).mean()\n",
    "    week_stock['MACD'] = 2*(week_stock['DIF'] - week_stock['DEA'])\n",
    "    week_stock.to_excel('~/Downloads/macd20220718.xlsx')\n"
   ]
  },
  {
   "cell_type": "code",
   "execution_count": 2,
   "metadata": {
    "pycharm": {
     "name": "#%%\n"
    }
   },
   "outputs": [],
   "source": [
    "def _get_file_content_ths(file: str = \"ths.js\") -> str:\n",
    "    \"\"\"\n",
    "    获取 JS 文件的内容\n",
    "    :param file:  JS 文件名\n",
    "    :type file: str\n",
    "    :return: 文件内容\n",
    "    :rtype: str\n",
    "    \"\"\"\n",
    "    setting_file_path = get_ths_js(file)\n",
    "    with open(setting_file_path) as f:\n",
    "        file_data = f.read()\n",
    "    return file_data"
   ]
  },
  {
   "cell_type": "code",
   "execution_count": 12,
   "metadata": {
    "pycharm": {
     "name": "#%%\n"
    }
   },
   "outputs": [
    {
     "name": "stderr",
     "output_type": "stream",
     "text": [
      "                                               "
     ]
    },
    {
     "name": "stdout",
     "output_type": "stream",
     "text": [
      "CPU times: user 195 ms, sys: 48.7 ms, total: 244 ms\n",
      "Wall time: 1.96 s\n"
     ]
    },
    {
     "name": "stderr",
     "output_type": "stream",
     "text": [
      "\r"
     ]
    },
    {
     "data": {
      "text/plain": "      序号      代码    名称      现价    涨跌幅    涨跌    涨速     换手    量比     振幅     成交额  \\\n0      1  688256   寒武纪   67.32  13.93  8.23  0.03   4.96  9.04   7.46   8.29亿   \n1      2  002264   新华都    7.18   9.95  0.65   0.0  10.14  1.58  14.86   4.27亿   \n2      3  002120  韵达股份   17.93   6.47  1.09  0.17   1.36  2.15   5.64   6.90亿   \n3      4  300068  南都电源   24.38   4.63  1.08  0.04   8.94  0.87   7.34  18.19亿   \n4      5  601127   赛力斯   64.52    4.4  2.72  0.02   1.77  1.14   8.15  11.61亿   \n..   ...     ...   ...     ...    ...   ...   ...    ...   ...    ...     ...   \n99   100  002425  凯撒文化    5.31  -4.32 -0.24   0.0   3.66  0.98    4.5   1.89亿   \n100  101  600640   新国脉    9.94  -4.51 -0.47   0.3   0.97   1.3   5.38   0.79亿   \n101  102  300459   汤姆猫     3.5  -4.63 -0.17 -0.29   4.36  1.35   4.91   4.59亿   \n102  103  688608  恒玄科技  133.99  -4.97 -7.01 -0.53   1.04  1.83   9.23   1.11亿   \n103  104  600258  首旅酒店   20.37  -5.08 -1.09  -0.2   1.26  1.15   5.13   2.79亿   \n\n        流通股     流通市值    市盈率  \n0     2.42亿  163.04亿     --  \n1     6.17亿   44.30亿  11.77  \n2    28.15亿  504.75亿  47.62  \n3     8.34亿  203.37亿  19.91  \n4    10.33亿  666.22亿     --  \n..      ...      ...    ...  \n99    9.56亿   50.76亿     --  \n100   7.96亿   79.09亿     --  \n101  29.47亿  103.15亿  21.14  \n102   0.79亿  105.51亿  99.14  \n103  10.70亿  218.05亿     --  \n\n[104 rows x 14 columns]",
      "text/html": "<div>\n<style scoped>\n    .dataframe tbody tr th:only-of-type {\n        vertical-align: middle;\n    }\n\n    .dataframe tbody tr th {\n        vertical-align: top;\n    }\n\n    .dataframe thead th {\n        text-align: right;\n    }\n</style>\n<table border=\"1\" class=\"dataframe\">\n  <thead>\n    <tr style=\"text-align: right;\">\n      <th></th>\n      <th>序号</th>\n      <th>代码</th>\n      <th>名称</th>\n      <th>现价</th>\n      <th>涨跌幅</th>\n      <th>涨跌</th>\n      <th>涨速</th>\n      <th>换手</th>\n      <th>量比</th>\n      <th>振幅</th>\n      <th>成交额</th>\n      <th>流通股</th>\n      <th>流通市值</th>\n      <th>市盈率</th>\n    </tr>\n  </thead>\n  <tbody>\n    <tr>\n      <th>0</th>\n      <td>1</td>\n      <td>688256</td>\n      <td>寒武纪</td>\n      <td>67.32</td>\n      <td>13.93</td>\n      <td>8.23</td>\n      <td>0.03</td>\n      <td>4.96</td>\n      <td>9.04</td>\n      <td>7.46</td>\n      <td>8.29亿</td>\n      <td>2.42亿</td>\n      <td>163.04亿</td>\n      <td>--</td>\n    </tr>\n    <tr>\n      <th>1</th>\n      <td>2</td>\n      <td>002264</td>\n      <td>新华都</td>\n      <td>7.18</td>\n      <td>9.95</td>\n      <td>0.65</td>\n      <td>0.0</td>\n      <td>10.14</td>\n      <td>1.58</td>\n      <td>14.86</td>\n      <td>4.27亿</td>\n      <td>6.17亿</td>\n      <td>44.30亿</td>\n      <td>11.77</td>\n    </tr>\n    <tr>\n      <th>2</th>\n      <td>3</td>\n      <td>002120</td>\n      <td>韵达股份</td>\n      <td>17.93</td>\n      <td>6.47</td>\n      <td>1.09</td>\n      <td>0.17</td>\n      <td>1.36</td>\n      <td>2.15</td>\n      <td>5.64</td>\n      <td>6.90亿</td>\n      <td>28.15亿</td>\n      <td>504.75亿</td>\n      <td>47.62</td>\n    </tr>\n    <tr>\n      <th>3</th>\n      <td>4</td>\n      <td>300068</td>\n      <td>南都电源</td>\n      <td>24.38</td>\n      <td>4.63</td>\n      <td>1.08</td>\n      <td>0.04</td>\n      <td>8.94</td>\n      <td>0.87</td>\n      <td>7.34</td>\n      <td>18.19亿</td>\n      <td>8.34亿</td>\n      <td>203.37亿</td>\n      <td>19.91</td>\n    </tr>\n    <tr>\n      <th>4</th>\n      <td>5</td>\n      <td>601127</td>\n      <td>赛力斯</td>\n      <td>64.52</td>\n      <td>4.4</td>\n      <td>2.72</td>\n      <td>0.02</td>\n      <td>1.77</td>\n      <td>1.14</td>\n      <td>8.15</td>\n      <td>11.61亿</td>\n      <td>10.33亿</td>\n      <td>666.22亿</td>\n      <td>--</td>\n    </tr>\n    <tr>\n      <th>...</th>\n      <td>...</td>\n      <td>...</td>\n      <td>...</td>\n      <td>...</td>\n      <td>...</td>\n      <td>...</td>\n      <td>...</td>\n      <td>...</td>\n      <td>...</td>\n      <td>...</td>\n      <td>...</td>\n      <td>...</td>\n      <td>...</td>\n      <td>...</td>\n    </tr>\n    <tr>\n      <th>99</th>\n      <td>100</td>\n      <td>002425</td>\n      <td>凯撒文化</td>\n      <td>5.31</td>\n      <td>-4.32</td>\n      <td>-0.24</td>\n      <td>0.0</td>\n      <td>3.66</td>\n      <td>0.98</td>\n      <td>4.5</td>\n      <td>1.89亿</td>\n      <td>9.56亿</td>\n      <td>50.76亿</td>\n      <td>--</td>\n    </tr>\n    <tr>\n      <th>100</th>\n      <td>101</td>\n      <td>600640</td>\n      <td>新国脉</td>\n      <td>9.94</td>\n      <td>-4.51</td>\n      <td>-0.47</td>\n      <td>0.3</td>\n      <td>0.97</td>\n      <td>1.3</td>\n      <td>5.38</td>\n      <td>0.79亿</td>\n      <td>7.96亿</td>\n      <td>79.09亿</td>\n      <td>--</td>\n    </tr>\n    <tr>\n      <th>101</th>\n      <td>102</td>\n      <td>300459</td>\n      <td>汤姆猫</td>\n      <td>3.5</td>\n      <td>-4.63</td>\n      <td>-0.17</td>\n      <td>-0.29</td>\n      <td>4.36</td>\n      <td>1.35</td>\n      <td>4.91</td>\n      <td>4.59亿</td>\n      <td>29.47亿</td>\n      <td>103.15亿</td>\n      <td>21.14</td>\n    </tr>\n    <tr>\n      <th>102</th>\n      <td>103</td>\n      <td>688608</td>\n      <td>恒玄科技</td>\n      <td>133.99</td>\n      <td>-4.97</td>\n      <td>-7.01</td>\n      <td>-0.53</td>\n      <td>1.04</td>\n      <td>1.83</td>\n      <td>9.23</td>\n      <td>1.11亿</td>\n      <td>0.79亿</td>\n      <td>105.51亿</td>\n      <td>99.14</td>\n    </tr>\n    <tr>\n      <th>103</th>\n      <td>104</td>\n      <td>600258</td>\n      <td>首旅酒店</td>\n      <td>20.37</td>\n      <td>-5.08</td>\n      <td>-1.09</td>\n      <td>-0.2</td>\n      <td>1.26</td>\n      <td>1.15</td>\n      <td>5.13</td>\n      <td>2.79亿</td>\n      <td>10.70亿</td>\n      <td>218.05亿</td>\n      <td>--</td>\n    </tr>\n  </tbody>\n</table>\n<p>104 rows × 14 columns</p>\n</div>"
     },
     "execution_count": 12,
     "metadata": {},
     "output_type": "execute_result"
    }
   ],
   "source": [
    "%%time\n",
    "import akshare as ak\n",
    "ak.stock_board_cons_ths('301558')\n",
    "\n",
    "# https://tv.cctv.com/lm/xwlb/"
   ]
  },
  {
   "cell_type": "code",
   "execution_count": 11,
   "metadata": {
    "pycharm": {
     "name": "#%%\n"
    }
   },
   "outputs": [
    {
     "name": "stdout",
     "output_type": "stream",
     "text": [
      "CPU times: user 70 µs, sys: 397 µs, total: 467 µs\n",
      "Wall time: 1.04 ms\n"
     ]
    }
   ],
   "source": [
    "%%time\n",
    "import pandas as pd\n",
    "from datetime import datetime\n",
    "from functools import lru_cache\n",
    "\n",
    "import requests\n",
    "from bs4 import BeautifulSoup\n",
    "from py_mini_racer import py_mini_racer\n",
    "from tqdm import tqdm\n",
    "\n",
    "from akshare.utils import demjson\n",
    "from akshare.datasets import get_ths_js\n",
    "\n",
    "def stock_board_cons_ths_modified(symbol: str = \"301558\") -> pd.DataFrame:\n",
    "    \"\"\"\n",
    "    通过输入行业板块或者概念板块的代码获取成份股\n",
    "    http://q.10jqka.com.cn/thshy/detail/code/881121/\n",
    "    http://q.10jqka.com.cn/gn/detail/code/301558/\n",
    "    :param symbol: 行业板块或者概念板块的代码\n",
    "    :type symbol: str\n",
    "    :return: 行业板块或者概念板块的成份股\n",
    "    :rtype: pandas.DataFrame\n",
    "    \"\"\"\n",
    "    print('就问你服不服')\n",
    "    js_code = py_mini_racer.MiniRacer()\n",
    "    js_content = _get_file_content_ths(\"ths.js\")\n",
    "    js_code.eval(js_content)\n",
    "    v_code = js_code.call(\"v\")\n",
    "    headers = {\n",
    "        # \"User-Agent\": \"Mozilla/5.0 (Windows NT 10.0; Win64; x64) AppleWebKit/537.36 (KHTML, like Gecko) Chrome/89.0.4389.90 Safari/537.36\",\n",
    "        \"User-Agent\": \"Mozilla/5.0 (Macintosh; Intel Mac OS X 10_15_7) AppleWebKit/537.36 (KHTML, like Gecko) Chrome/104.0.0.0 Safari/537.36\",\n",
    "        \"Cookie\": f\"v={v_code}\",\n",
    "    }\n",
    "    url = f\"http://q.10jqka.com.cn/thshy/detail/field/199112/order/desc/page/1/ajax/1/code/{symbol}\"\n",
    "    r = requests.get(url, headers=headers)\n",
    "    soup = BeautifulSoup(r.text, \"lxml\")\n",
    "    url_flag = \"thshy\"\n",
    "    if soup.find(\"td\", attrs={\"colspan\": \"14\"}):\n",
    "        url = f\"http://q.10jqka.com.cn/gn/detail/field/199112/order/desc/page/1/ajax/1/code/{symbol}\"\n",
    "        r = requests.get(url, headers=headers)\n",
    "        soup = BeautifulSoup(r.text, \"lxml\")\n",
    "        url_flag = \"gn\"\n",
    "    try:\n",
    "        page_num = int(\n",
    "            soup.find_all(\"a\", attrs={\"class\": \"changePage\"})[-1][\"page\"]\n",
    "        )\n",
    "    except IndexError as e:\n",
    "        page_num = 1\n",
    "    big_df = pd.DataFrame()\n",
    "    for page in tqdm(range(1, page_num + 1), leave=False):\n",
    "        v_code = js_code.call(\"v\")\n",
    "        headers = {\n",
    "            \"User-Agent\": \"Mozilla/5.0 (Windows NT 10.0; Win64; x64) AppleWebKit/537.36 (KHTML, like Gecko) Chrome/89.0.4389.90 Safari/537.36\",\n",
    "            \"Cookie\": f\"v={v_code}\",\n",
    "        }\n",
    "        url = f\"http://q.10jqka.com.cn/{url_flag}/detail/field/199112/order/desc/page/{page}/ajax/1/code/{symbol}\"\n",
    "        r = requests.get(url, headers=headers)\n",
    "        temp_df = pd.read_html(r.text)[0]\n",
    "        big_df = pd.concat([big_df, temp_df], ignore_index=True)\n",
    "    big_df.rename(\n",
    "        {\n",
    "            \"涨跌幅(%)\": \"涨跌幅\",\n",
    "            \"涨速(%)\": \"涨速\",\n",
    "            \"换手(%)\": \"换手\",\n",
    "            \"振幅(%)\": \"振幅\",\n",
    "        },\n",
    "        inplace=True,\n",
    "        axis=1,\n",
    "    )\n",
    "    del big_df[\"加自选\"]\n",
    "    big_df[\"代码\"] = big_df[\"代码\"].astype(str).str.zfill(6)\n",
    "    return big_df"
   ]
  },
  {
   "cell_type": "code",
   "execution_count": 10,
   "outputs": [
    {
     "name": "stdout",
     "output_type": "stream",
     "text": [
      "CPU times: user 2 µs, sys: 1 µs, total: 3 µs\n",
      "Wall time: 9.3 µs\n"
     ]
    }
   ],
   "source": [
    "%%time\n",
    "a=1"
   ],
   "metadata": {
    "collapsed": false,
    "pycharm": {
     "name": "#%%\n"
    }
   }
  }
 ],
 "metadata": {
  "kernelspec": {
   "display_name": "Python 3.9.7 ('base')",
   "language": "python",
   "name": "python3"
  },
  "language_info": {
   "codemirror_mode": {
    "name": "ipython",
    "version": 3
   },
   "file_extension": ".py",
   "mimetype": "text/x-python",
   "name": "python",
   "nbconvert_exporter": "python",
   "pygments_lexer": "ipython3",
   "version": "3.9.7"
  },
  "orig_nbformat": 4,
  "vscode": {
   "interpreter": {
    "hash": "fa4adb617039ca94d7a20c40077a30d80d2f067f135187596d14a19da4280627"
   }
  }
 },
 "nbformat": 4,
 "nbformat_minor": 2
}