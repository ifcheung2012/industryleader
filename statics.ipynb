{
 "cells": [
  {
   "cell_type": "code",
   "execution_count": 1,
   "metadata": {},
   "outputs": [
    {
     "ename": "ModuleNotFoundError",
     "evalue": "No module named 'pandas'",
     "output_type": "error",
     "traceback": [
      "\u001b[0;31m---------------------------------------------------------------------------\u001b[0m",
      "\u001b[0;31mModuleNotFoundError\u001b[0m                       Traceback (most recent call last)",
      "\u001b[1;32m/Users/zif/Downloads/github/industryleader/statics.ipynb Cell 1'\u001b[0m in \u001b[0;36m<cell line: 1>\u001b[0;34m()\u001b[0m\n\u001b[0;32m----> <a href='vscode-notebook-cell:/Users/zif/Downloads/github/industryleader/statics.ipynb#ch0000000?line=0'>1</a>\u001b[0m \u001b[39mimport\u001b[39;00m \u001b[39mpandas\u001b[39;00m \u001b[39mas\u001b[39;00m \u001b[39mpd\u001b[39;00m\n\u001b[1;32m      <a href='vscode-notebook-cell:/Users/zif/Downloads/github/industryleader/statics.ipynb#ch0000000?line=1'>2</a>\u001b[0m \u001b[39mimport\u001b[39;00m \u001b[39mrequests\u001b[39;00m\n\u001b[1;32m      <a href='vscode-notebook-cell:/Users/zif/Downloads/github/industryleader/statics.ipynb#ch0000000?line=2'>3</a>\u001b[0m \u001b[39mfrom\u001b[39;00m \u001b[39mdatetime\u001b[39;00m \u001b[39mimport\u001b[39;00m datetime\n",
      "\u001b[0;31mModuleNotFoundError\u001b[0m: No module named 'pandas'"
     ]
    }
   ],
   "source": [
    "import pandas as pd\n",
    "import requests\n",
    "from datetime import datetime\n",
    "from jsonpath import jsonpath\n",
    "\n",
    "\n",
    "def get_zt_stock_bank(date: str = None) -> pd.DataFrame:\n",
    "    \"\"\"\n",
    "    获取指定日期涨停股票行情\n",
    "\n",
    "    Parameters\n",
    "    ----------\n",
    "    date : str\n",
    "        指定日期，默认为当前日期 格式形如 ``'20220506'``\n",
    "\n",
    "    Returns\n",
    "    -------\n",
    "    DataFrame\n",
    "        指定日期涨停股票行情\n",
    "\n",
    "    Fields\n",
    "    ------\n",
    "    ``['日期', '股票代码', '股票名称', '涨跌幅', '成交额', '封板资金', '流通市值', '最新价', '换手率','首次封板时间', '最后封板时间', '炸板次数', '连扳数', '所属行业']``\n",
    "    \"\"\"\n",
    "    if date is None:\n",
    "        date = datetime.today().strftime('%Y%m%d')\n",
    "    params = (\n",
    "        ('ut', 'b2884a393a59ad64002292a3e90d46a5'),\n",
    "        ('pn', '1'),\n",
    "        ('pz', '500'),\n",
    "        ('po', '1'),\n",
    "        ('np', '1'),\n",
    "        ('fields', 'f12,f13,f14,f62'),\n",
    "        ('fid','f62'),\n",
    "        ('fs','m:90+t:2'),\n",
    "    )\n",
    "\n",
    "    response = requests.get(\n",
    "        'https://push2.eastmoney.com/api/qt/clist/get', params=params,  verify=False)\n",
    "    fields = {\n",
    "        'f12': '板块编码',\n",
    "        'f13': '上市板块',\n",
    "        'f14': '板块名称',\n",
    "        'f62': '主力资金净流入'\n",
    "    }\n",
    "    items = jsonpath(response.json(), '$..diff[:]')\n",
    "    if not items:\n",
    "        df = pd.DataFrame(\n",
    "            columns=['日期']+list(fields.values())+['统计天数', '涨停次数'])\n",
    "        return df\n",
    "    df = pd.DataFrame(items)\n",
    "    \n",
    "    \n",
    "    df: pd.DataFrame = df.rename(columns=fields)[fields.values()]\n",
    "    \n",
    "    df['主力资金净流入'] /= 100000000\n",
    "    \n",
    "    return df\n",
    "\n",
    "df1 = get_zt_stock_bank()\n",
    "df1"
   ]
  }
 ],
 "metadata": {
  "kernelspec": {
   "display_name": "Python 3.9.1 64-bit",
   "language": "python",
   "name": "python3"
  },
  "language_info": {
   "codemirror_mode": {
    "name": "ipython",
    "version": 3
   },
   "file_extension": ".py",
   "mimetype": "text/x-python",
   "name": "python",
   "nbconvert_exporter": "python",
   "pygments_lexer": "ipython3",
   "version": "3.9.1"
  },
  "orig_nbformat": 4,
  "vscode": {
   "interpreter": {
    "hash": "aee8b7b246df8f9039afb4144a1f6fd8d2ca17a180786b69acc140d282b71a49"
   }
  }
 },
 "nbformat": 4,
 "nbformat_minor": 2
}
